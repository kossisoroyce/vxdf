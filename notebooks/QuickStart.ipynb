{
 "cells": [
  {
   "cell_type": "markdown",
   "metadata": {},
   "source": [
    "# VXDF Quick Start\n",
    "\n",
    "This notebook demonstrates basic usage of the VXDF Python library for writing and reading a simple VXDF file."
   ]
  },
  {
   "cell_type": "code",
   "execution_count": null,
   "metadata": {},
   "outputs": [],
   "source": [
    "# Install the library (pre-installed on Colab runtimes with the cell magic)\n",
    "!pip install -q vxdf[zstd]"
   ]
  },
  {
   "cell_type": "code",
   "execution_count": null,
   "metadata": {},
   "outputs": [],
   "source": [
    "from vxdf import VXDFWriter, VXDFReader\n",
    "\n",
    "data = [\n",
    "    {'id': '1', 'text': 'hello', 'vector': [0.1, 0.2]},\n",
    "    {'id': '2', 'text': 'world', 'vector': [0.3, 0.4]},\n",
    "]\n",
    "\n",
    "# Write a VXDF file\n",
    "with VXDFWriter('demo.vxdf', embedding_dim=2, compression='zstd') as w:\n",
    "    for chunk in data:\n",
    "        w.add_chunk(chunk)\n",
    "\n",
    "# Read it back\n",
    "reader = VXDFReader('demo.vxdf')\n",
    "print(reader.get_chunk('2'))"
   ]
  }
 ],
 "metadata": {
  "kernelspec": {
   "display_name": "Python 3",
   "language": "python",
   "name": "python3"
  },
  "language_info": {
   "name": "python"
  }
 },
 "nbformat": 4,
 "nbformat_minor": 5
}
